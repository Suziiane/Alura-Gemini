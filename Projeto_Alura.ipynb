{
  "nbformat": 4,
  "nbformat_minor": 0,
  "metadata": {
    "colab": {
      "provenance": []
    },
    "kernelspec": {
      "name": "python3",
      "display_name": "Python 3"
    },
    "language_info": {
      "name": "python"
    }
  },
  "cells": [
    {
      "cell_type": "code",
      "source": [
        "!pip install --upgrade google-generativeai\n",
        "!pip show google-generativeai"
      ],
      "metadata": {
        "colab": {
          "base_uri": "https://localhost:8080/"
        },
        "collapsed": true,
        "id": "BBuPf1WJ0Hvd",
        "outputId": "370177dc-aba9-4dd6-db8d-9e5b7a04dca9"
      },
      "execution_count": null,
      "outputs": [
        {
          "output_type": "stream",
          "name": "stdout",
          "text": [
            "Requirement already satisfied: google-generativeai in /usr/local/lib/python3.11/dist-packages (0.8.5)\n",
            "Requirement already satisfied: google-ai-generativelanguage==0.6.15 in /usr/local/lib/python3.11/dist-packages (from google-generativeai) (0.6.15)\n",
            "Requirement already satisfied: google-api-core in /usr/local/lib/python3.11/dist-packages (from google-generativeai) (2.24.2)\n",
            "Requirement already satisfied: google-api-python-client in /usr/local/lib/python3.11/dist-packages (from google-generativeai) (2.169.0)\n",
            "Requirement already satisfied: google-auth>=2.15.0 in /usr/local/lib/python3.11/dist-packages (from google-generativeai) (2.38.0)\n",
            "Requirement already satisfied: protobuf in /usr/local/lib/python3.11/dist-packages (from google-generativeai) (5.29.4)\n",
            "Requirement already satisfied: pydantic in /usr/local/lib/python3.11/dist-packages (from google-generativeai) (2.11.4)\n",
            "Requirement already satisfied: tqdm in /usr/local/lib/python3.11/dist-packages (from google-generativeai) (4.67.1)\n",
            "Requirement already satisfied: typing-extensions in /usr/local/lib/python3.11/dist-packages (from google-generativeai) (4.13.2)\n",
            "Requirement already satisfied: proto-plus<2.0.0dev,>=1.22.3 in /usr/local/lib/python3.11/dist-packages (from google-ai-generativelanguage==0.6.15->google-generativeai) (1.26.1)\n",
            "Requirement already satisfied: googleapis-common-protos<2.0.0,>=1.56.2 in /usr/local/lib/python3.11/dist-packages (from google-api-core->google-generativeai) (1.70.0)\n",
            "Requirement already satisfied: requests<3.0.0,>=2.18.0 in /usr/local/lib/python3.11/dist-packages (from google-api-core->google-generativeai) (2.32.3)\n",
            "Requirement already satisfied: cachetools<6.0,>=2.0.0 in /usr/local/lib/python3.11/dist-packages (from google-auth>=2.15.0->google-generativeai) (5.5.2)\n",
            "Requirement already satisfied: pyasn1-modules>=0.2.1 in /usr/local/lib/python3.11/dist-packages (from google-auth>=2.15.0->google-generativeai) (0.4.2)\n",
            "Requirement already satisfied: rsa<5,>=3.1.4 in /usr/local/lib/python3.11/dist-packages (from google-auth>=2.15.0->google-generativeai) (4.9.1)\n",
            "Requirement already satisfied: httplib2<1.0.0,>=0.19.0 in /usr/local/lib/python3.11/dist-packages (from google-api-python-client->google-generativeai) (0.22.0)\n",
            "Requirement already satisfied: google-auth-httplib2<1.0.0,>=0.2.0 in /usr/local/lib/python3.11/dist-packages (from google-api-python-client->google-generativeai) (0.2.0)\n",
            "Requirement already satisfied: uritemplate<5,>=3.0.1 in /usr/local/lib/python3.11/dist-packages (from google-api-python-client->google-generativeai) (4.1.1)\n",
            "Requirement already satisfied: annotated-types>=0.6.0 in /usr/local/lib/python3.11/dist-packages (from pydantic->google-generativeai) (0.7.0)\n",
            "Requirement already satisfied: pydantic-core==2.33.2 in /usr/local/lib/python3.11/dist-packages (from pydantic->google-generativeai) (2.33.2)\n",
            "Requirement already satisfied: typing-inspection>=0.4.0 in /usr/local/lib/python3.11/dist-packages (from pydantic->google-generativeai) (0.4.0)\n",
            "Requirement already satisfied: grpcio<2.0dev,>=1.33.2 in /usr/local/lib/python3.11/dist-packages (from google-api-core[grpc]!=2.0.*,!=2.1.*,!=2.10.*,!=2.2.*,!=2.3.*,!=2.4.*,!=2.5.*,!=2.6.*,!=2.7.*,!=2.8.*,!=2.9.*,<3.0.0dev,>=1.34.1->google-ai-generativelanguage==0.6.15->google-generativeai) (1.71.0)\n",
            "Requirement already satisfied: grpcio-status<2.0.dev0,>=1.33.2 in /usr/local/lib/python3.11/dist-packages (from google-api-core[grpc]!=2.0.*,!=2.1.*,!=2.10.*,!=2.2.*,!=2.3.*,!=2.4.*,!=2.5.*,!=2.6.*,!=2.7.*,!=2.8.*,!=2.9.*,<3.0.0dev,>=1.34.1->google-ai-generativelanguage==0.6.15->google-generativeai) (1.71.0)\n",
            "Requirement already satisfied: pyparsing!=3.0.0,!=3.0.1,!=3.0.2,!=3.0.3,<4,>=2.4.2 in /usr/local/lib/python3.11/dist-packages (from httplib2<1.0.0,>=0.19.0->google-api-python-client->google-generativeai) (3.2.3)\n",
            "Requirement already satisfied: pyasn1<0.7.0,>=0.6.1 in /usr/local/lib/python3.11/dist-packages (from pyasn1-modules>=0.2.1->google-auth>=2.15.0->google-generativeai) (0.6.1)\n",
            "Requirement already satisfied: charset-normalizer<4,>=2 in /usr/local/lib/python3.11/dist-packages (from requests<3.0.0,>=2.18.0->google-api-core->google-generativeai) (3.4.2)\n",
            "Requirement already satisfied: idna<4,>=2.5 in /usr/local/lib/python3.11/dist-packages (from requests<3.0.0,>=2.18.0->google-api-core->google-generativeai) (3.10)\n",
            "Requirement already satisfied: urllib3<3,>=1.21.1 in /usr/local/lib/python3.11/dist-packages (from requests<3.0.0,>=2.18.0->google-api-core->google-generativeai) (2.4.0)\n",
            "Requirement already satisfied: certifi>=2017.4.17 in /usr/local/lib/python3.11/dist-packages (from requests<3.0.0,>=2.18.0->google-api-core->google-generativeai) (2025.4.26)\n",
            "Name: google-generativeai\n",
            "Version: 0.8.5\n",
            "Summary: Google Generative AI High level API client library and tools.\n",
            "Home-page: https://github.com/google/generative-ai-python\n",
            "Author: Google LLC\n",
            "Author-email: googleapis-packages@google.com\n",
            "License: Apache 2.0\n",
            "Location: /usr/local/lib/python3.11/dist-packages\n",
            "Requires: google-ai-generativelanguage, google-api-core, google-api-python-client, google-auth, protobuf, pydantic, tqdm, typing-extensions\n",
            "Required-by: \n"
          ]
        }
      ]
    },
    {
      "cell_type": "code",
      "source": [
        "import os\n",
        "from google.colab import userdata\n",
        "import google.generativeai as genai # Importação correta\n",
        "\n",
        "print(f\"Versão da biblioteca google-generativeai: {genai.__version__}\") # Verifica a versão\n",
        "\n",
        "try:\n",
        "    # Certifique-se de que a chave 'GOOGLE_API_KEY' existe no UserData do Colab\n",
        "    GOOGLE_API_KEY = userdata.get('GOOGLE_API_KEY')\n",
        "    if not GOOGLE_API_KEY:\n",
        "        raise ValueError(\"API Key 'GOOGLE_API_KEY' não encontrada no Colab Userdata.\")\n",
        "\n",
        "    genai.configure(api_key=GOOGLE_API_KEY)\n",
        "    print(\"API Key configurada.\")\n",
        "\n",
        "    # Use um nome de modelo sabidamente válido\n",
        "    model = genai.GenerativeModel(\"gemini-1.5-flash-latest\")\n",
        "    print(\"Modelo Gemini instanciado com sucesso!\")\n",
        "\n",
        "    # Opcional: Teste rápido de geração\n",
        "    # response = model.generate_content(\"Olá!\")\n",
        "    # print(f\"Resposta do modelo: {response.text}\")\n",
        "\n",
        "except AttributeError as ae:\n",
        "    print(f\"Erro de Atributo: {ae}\")\n",
        "    print(\"Verifique se a biblioteca 'google-generativeai' está instalada corretamente e se o ambiente de execução foi reiniciado após a instalação/atualização.\")\n",
        "except Exception as e:\n",
        "    print(f\"Ocorreu um erro inesperado: {e}\")"
      ],
      "metadata": {
        "colab": {
          "base_uri": "https://localhost:8080/"
        },
        "id": "mTVKKIg00k6j",
        "outputId": "f5bcf586-8e14-47ed-f3f9-cadd0da4a51c"
      },
      "execution_count": null,
      "outputs": [
        {
          "output_type": "stream",
          "name": "stdout",
          "text": [
            "Versão da biblioteca google-generativeai: 0.8.5\n",
            "API Key configurada.\n",
            "Modelo Gemini instanciado com sucesso!\n"
          ]
        }
      ]
    },
    {
      "cell_type": "code",
      "source": [
        "import google.generativeai as genai"
      ],
      "metadata": {
        "id": "D-r5ZMFA0-0Q"
      },
      "execution_count": null,
      "outputs": []
    },
    {
      "cell_type": "code",
      "source": [
        "# Configura a API Key do Google Gemini\n",
        "\n",
        "import os\n",
        "from google.colab import userdata\n",
        "\n",
        "os.environ[\"GOOGLE_API_KEY\"] = userdata.get('GOOGLE_API_KEY')"
      ],
      "metadata": {
        "id": "QD9hKFpfemUt"
      },
      "execution_count": null,
      "outputs": []
    },
    {
      "cell_type": "code",
      "source": [
        "MODEL_ID = \"gemini-2.0-flash\""
      ],
      "metadata": {
        "id": "Lag48wPGeu6G"
      },
      "execution_count": null,
      "outputs": []
    },
    {
      "cell_type": "code",
      "source": [
        "from IPython.display import HTML, Markdown"
      ],
      "metadata": {
        "id": "fkQpl6D2fJMm"
      },
      "execution_count": null,
      "outputs": []
    },
    {
      "cell_type": "code",
      "source": [
        "!pip install -q google-adk"
      ],
      "metadata": {
        "id": "Neg5FmDYfuGX"
      },
      "execution_count": null,
      "outputs": []
    },
    {
      "cell_type": "code",
      "source": [
        "from google.adk.agents import Agent\n",
        "from google.adk.runners import Runner\n",
        "from google.adk.sessions import InMemorySessionService\n",
        "from google.adk.tools import google_search\n",
        "from google.genai import types  # Para criar conteúdos (Content e Part)\n",
        "from datetime import date\n",
        "import textwrap # Para formatar melhor a saída de texto\n",
        "from IPython.display import display, Markdown # Para exibir texto formatado no Colab\n",
        "import requests # Para fazer requisições HTTP\n",
        "import warnings\n",
        "\n",
        "warnings.filterwarnings(\"ignore\")"
      ],
      "metadata": {
        "id": "dMprGFfzf4dd"
      },
      "execution_count": null,
      "outputs": []
    },
    {
      "cell_type": "code",
      "source": [
        "def obter_resposta_do_modelo(prompt):\n",
        "    \"\"\"Envia um prompt para o modelo Gemini e retorna a resposta.\"\"\"\n",
        "    if model is None: # Verifica se o modelo foi inicializado\n",
        "        return \"Erro: O modelo Gemini não foi inicializado corretamente.\"\n",
        "    try:\n",
        "        response = model.generate_content(prompt)\n",
        "        return response.text\n",
        "    except Exception as e:\n",
        "        return f\"Ocorreu um erro ao obter a resposta do modelo: {e}\""
      ],
      "metadata": {
        "id": "a1CbnxP7uvmg"
      },
      "execution_count": null,
      "outputs": []
    },
    {
      "cell_type": "code",
      "source": [
        "def chatbot_busca_imovel():\n",
        "    print(\"Olá! Bem-vindo ao nosso sistema inteligente de busca de imóveis. Para começarmos, por favor, me diga o que você procura:\")\n",
        "\n",
        "    tipo_imovel = input(\"Qual tipo de imóvel você procura (casa, apartamento, estúdio, comercial)? \").lower()\n",
        "    cidade = input(f\"Em qual cidade você gostaria de buscar um(a) {tipo_imovel}? \").lower()\n",
        "    dormitorios = input(\"Quantos dormitórios você precisa? (ex: 1, 2, 3+) \").lower()\n",
        "    vaga = input(\"Precisa de vaga de garagem? (sim/não) \").lower()\n",
        "    varanda = input(\"Precisa de varanda? (sim/não) \").lower()\n",
        "    preco_disposto = input(\"Qual o valor máximo que você está disposto a pagar pelo imóvel? (ex: até 300000, entre 300000 e 500000, acima de 500000) \").lower()\n",
        "\n",
        "    prompt_busca = f\"\"\"Você é um agente de busca de imóveis especializado em encontrar as melhores opções para o cliente.\n",
        "    O cliente está buscando um imóvel do tipo: {tipo_imovel} na cidade de {cidade}, com {dormitorios} dormitórios,\n",
        "    opção de vaga de garagem: {vaga}, com varanda: {varanda}, e com um preço máximo de {preco_disposto}.\n",
        "\n",
        "    Realize uma busca simulada e apresente de 15 a 20 opções que melhor correspondam a esses critérios.\n",
        "    Para cada opção, inclua um breve título (criativo e relevante), uma descrição concisa destacando os principais atrativos e um link genérico para um portal de imóveis (formato: www.portal.com.br/id_...).\n",
        "    Formate a saída de forma clara e numerada para o cliente analisar.\n",
        "\n",
        "    Após apresentar as opções, pergunte diretamente ao cliente: 'Essas opções iniciais atendem à sua busca?'\"\"\"\n",
        "\n",
        "    #response = não consegui achar o valor correto para declarar a variável de response imprimindo o site buscado.\n",
        "    tools=[google_search]\n",
        "    resposta_busca = obter_resposta_do_modelo(prompt_busca)\n",
        "    print(f\"\\nResultados da Busca:\\n{resposta_busca}\")\n",
        "    # Exibe as URLs nas quais ele se baseou\n",
        "    print(f\"Páginas utilizadas na resposta: {', '.join([site.web.title for site in response.candidates[0].grounding_metadata.grounding_chunks])}\")\n",
        "    print()\n",
        "    display(HTML(response.candidates[0].grounding_metadata.search_entry_point.rendered_content))\n",
        "\n",
        "    satisfacao = input(\"Essas opções iniciais atendem à sua busca? (sim/não) \").lower()\n",
        "\n",
        "    tentativas_refinamento = 0\n",
        "    max_tentativas = 2\n",
        "\n",
        "    while satisfacao == \"não\" and tentativas_refinamento < max_tentativas:\n",
        "        print(\"\\n--- Refinando a Busca ---\")\n",
        "        detalhes_adicionais = input(\"Por favor, forneça mais detalhes sobre o que você procura para que eu possa refinar a busca: \").lower()\n",
        "        novo_valor_maximo = input(\"Qual o valor máximo atualizado? \").lower()\n",
        "\n",
        "        prompt_refinar = f\"\"\"Você é um agente de busca de imóveis dedicado a encontrar o imóvel perfeito para o cliente.\n",
        "        O cliente inicialmente buscava:\n",
        "        Tipo: {tipo_imovel}\n",
        "        Cidade: {cidade}\n",
        "        Dormitórios: {dormitorios}\n",
        "        Vaga de Garagem: {vaga}\n",
        "        Varanda: {varanda}\n",
        "        E estava disposto a pagar até: {novo_valor_maximo}\n",
        "\n",
        "        O cliente agora adicionou as seguintes informações para refinar a busca: {detalhes_adicionais}.\n",
        "\n",
        "        Realize uma nova busca simulada de até 15 opções que correspondam a esses critérios atualizados.\n",
        "        Para cada opção, inclua um breve título, uma descrição concisa e um link genérico para um portal de imóveis (formato: www.portal.com.br/id_...).\n",
        "        Formate a saída de forma clara e numerada e pergunte ao cliente: 'Esta nova busca lhe agradou?'\"\"\"\n",
        "\n",
        "        resposta_refinar = obter_resposta_do_modelo(prompt_refinar)\n",
        "        print(f\"\\nResultados da Nova Busca:\\n{resposta_refinar}\")\n",
        "        satisfacao = input(\"Esta nova busca lhe agradou? (sim/não) \").lower()\n",
        "        tentativas_refinamento += 1\n",
        "        if satisfacao == \"sim\":\n",
        "            break\n",
        "        elif tentativas_refinamento < max_tentativas:\n",
        "            print(\"Agente: Entendo. Vamos tentar refinar mais uma vez.\")\n",
        "        else:\n",
        "            print(\"Agente: Lamento não encontrar opções ideais no momento. Sugiro falar com um de nossos corretores para assistência personalizada.\")\n",
        "            break\n",
        "\n",
        "    # --- Oferecer Corretor ---\n",
        "    if satisfacao == \"sim\":\n",
        "        link_formulario = \"https://docs.google.com/forms/d/e/1FAIpQLSdE0lPpyja0SsRhmgSuNLfBwiCX2w7Rf8ED_q-j1fpceUNJ9g/viewform?usp=header\" # Substitua pelo seu link\n",
        "        deseja_corretor = input(\"Agente: Ótimo! Deseja o contato de um de nossos corretores para agendar uma visita ou obter mais informações? (sim/não) \").lower()\n",
        "        if deseja_corretor == \"sim\":\n",
        "            print(f\"Agente: Por favor, preencha este formulário para solicitar o contato de um corretor: {link_formulario}\")\n",
        "        else:\n",
        "            print(\"Agente: Agradecemos o seu contato! Se tiver mais alguma dúvida, pode perguntar.\")\n",
        "    if satisfacao == \"nao\":\n",
        "      link_formulario = \"https://docs.google.com/forms/d/e/1FAIpQLSdE0lPpyja0SsRhmgSuNLfBwiCX2w7Rf8ED_q-j1fpceUNJ9g/viewform?usp=header\" # Substitua pelo seu link\n",
        "      deseja_corretor = input(\"Agente: Lamento não encontrar opções ideais no momento. Deseja o contato de um de nossos corretores para agendar uma visita ou obter mais informações? (sim/não) \").lower()\n",
        "      if deseja_corretor == \"sim\":\n",
        "            print(f\"Agente: Por favor, preencha este formulário para solicitar o contato de um corretor: {link_formulario}\")\n",
        "    else:\n",
        "        print(\"Agente: Agradecemos o seu contato! Se tiver mais alguma dúvida, pode perguntar.\")\n",
        "\n",
        "    print(\"\\nObrigado por utilizar nosso sistema! Tenha um ótimo dia.\")"
      ],
      "metadata": {
        "id": "1fzFikzDuwz2"
      },
      "execution_count": null,
      "outputs": []
    },
    {
      "cell_type": "code",
      "source": [
        "if __name__ == \"__main__\":\n",
        "    chatbot_busca_imovel()"
      ],
      "metadata": {
        "colab": {
          "base_uri": "https://localhost:8080/",
          "height": 1000
        },
        "id": "nD0cIc02u1q8",
        "outputId": "9ec74082-327f-41b2-a31d-f30be0e1c848"
      },
      "execution_count": 134,
      "outputs": [
        {
          "output_type": "stream",
          "name": "stdout",
          "text": [
            "Olá! Bem-vindo ao nosso sistema inteligente de busca de imóveis. Para começarmos, por favor, me diga o que você procura:\n",
            "Qual tipo de imóvel você procura (casa, apartamento, estúdio, comercial)? apartamento\n",
            "Em qual cidade você gostaria de buscar um(a) apartamento? Itapevi\n",
            "Quantos dormitórios você precisa? (ex: 1, 2, 3+) 2\n",
            "Precisa de vaga de garagem? (sim/não) Sim\n",
            "Precisa de varanda? (sim/não) Sim\n",
            "Qual o valor máximo que você está disposto a pagar pelo imóvel? (ex: até 300000, entre 300000 e 500000, acima de 500000) 300000\n",
            "\n",
            "Resultados da Busca:\n",
            "Olá! Preparei uma seleção de apartamentos em Itapevi que se encaixam nos seus critérios de busca (2 dormitórios, vaga de garagem, varanda e até R$ 300.000).  Lembre-se que os preços e disponibilidades podem variar, então é importante verificar diretamente nos portais.\n",
            "\n",
            "\n",
            "**Opções de Apartamentos em Itapevi:**\n",
            "\n",
            "1. **\"O Refúgio da Família\":**  Apartamento aconchegante com 2 dormitórios, varanda gourmet com churrasqueira, vaga de garagem coberta e armários embutidos na cozinha. Próximo a escolas e comércios. www.portal.com.br/id_12345\n",
            "2. **\"Vista Panorâmica\":** Apartamento com linda vista, 2 dormitórios arejados, varanda ampla, vaga de garagem e localização privilegiada próximo ao centro. www.portal.com.br/id_67890\n",
            "3. **\"Conforto e Lazer\":**  Oferece 2 dormitórios, varanda, vaga de garagem e acesso a área de lazer com piscina e playground.  Excelente custo-benefício. www.portal.com.br/id_13579\n",
            "4. **\"Modernidade e Charme\":** Apartamento recém-reformado com 2 dormitórios, varanda com vista para o jardim, vaga de garagem e acabamento de alto padrão. www.portal.com.br/id_24680\n",
            "5. **\"Paz e Tranquilidade\":**  Localizado em condomínio fechado com segurança 24h, este apartamento dispõe de 2 dormitórios, varanda, vaga de garagem e área verde. www.portal.com.br/id_35791\n",
            "6. **\"Espaço e Luz Natural\":**  Apartamento amplo e iluminado com 2 dormitórios, varanda espaçosa, vaga de garagem e ótima ventilação. www.portal.com.br/id_46802\n",
            "7. **\"Próximo a Tudo\":**  Localização estratégica perto de transporte público, supermercados e shoppings, com 2 dormitórios, varanda, vaga de garagem e preço acessível. www.portal.com.br/id_57913\n",
            "8. **\"Seu Novo Lar\":** Apartamento com 2 dormitórios, varanda, vaga de garagem, armários planejados e ótima conservação. www.portal.com.br/id_68024\n",
            "9. **\"Condomínio Completo\":**  Acesso a academia, salão de festas e piscina, além dos 2 dormitórios, varanda, vaga de garagem e segurança. www.portal.com.br/id_79135\n",
            "10. **\"Investimento Inteligente\":** Apartamento com potencial de valorização, 2 dormitórios, varanda, vaga de garagem e excelente localização. www.portal.com.br/id_80246\n",
            "11. **\"Alegria e Sol\":**  Apartamento ensolarado com 2 dormitórios, varanda, vaga de garagem e área de serviço. www.portal.com.br/id_91357\n",
            "12. **\"Bem-Estar e Conforto\":**  Ambiente tranquilo e familiar, com 2 dormitórios, varanda, vaga de garagem e playground para crianças. www.portal.com.br/id_02468\n",
            "13. **\"Natureza Urbana\":** Apartamento próximo a áreas verdes, com 2 dormitórios, varanda, vaga de garagem e fácil acesso a vias principais. www.portal.com.br/id_135792\n",
            "14. **\"Design Moderno\":**  Acabamento moderno e elegante, 2 dormitórios, varanda com vista, vaga de garagem e ótima insolação. www.portal.com.br/id_246803\n",
            "15. **\"Oportunidade Imperdível\":**  Excelente custo-benefício, 2 dormitórios, varanda, vaga de garagem e condomínio com baixo valor de taxa. www.portal.com.br/id_357914\n",
            "16. **\"Sua Tranquilidade\":**  Condomínio seguro e silencioso, com 2 dormitórios, varanda, vaga de garagem e ambientes aconchegantes. www.portal.com.br/id_468025\n",
            "17. **\"Conforto e praticidade\":**  Apartamento com 2 dormitórios, varanda, vaga de garagem e localização privilegiada próximo a comércios e transportes. www.portal.com.br/id_579136\n",
            "18. **\"Espaço para sua Familia\":**  Amplo apartamento com 2 dormitórios, varanda, vaga de garagem e espaço suficiente para toda família. www.portal.com.br/id_680247\n",
            "19. **\"Harmonia e Bem-Estar\":**  Ambiente familiar, com 2 dormitórios, varanda, vaga de garagem e áreas de lazer para todas as idades. www.portal.com.br/id_791358\n",
            "20. **\"Sua Casa Ideal\":** Apartamento completo, com 2 dormitórios, varanda, vaga de garagem e pronto para morar. www.portal.com.br/id_802469\n",
            "\n",
            "\n",
            "Essas opções iniciais atendem à sua busca?\n",
            "\n",
            "Páginas utilizadas na resposta: pcimoveiszn.com.br, imovelweb.com.br, chavesnamao.com.br, mercadolivre.com.br, vivareal.com.br, artefattoimoveis.com.br, zapimoveis.com.br\n",
            "\n"
          ]
        },
        {
          "output_type": "display_data",
          "data": {
            "text/plain": [
              "<IPython.core.display.HTML object>"
            ],
            "text/html": [
              "<style>\n",
              ".container {\n",
              "  align-items: center;\n",
              "  border-radius: 8px;\n",
              "  display: flex;\n",
              "  font-family: Google Sans, Roboto, sans-serif;\n",
              "  font-size: 14px;\n",
              "  line-height: 20px;\n",
              "  padding: 8px 12px;\n",
              "}\n",
              ".chip {\n",
              "  display: inline-block;\n",
              "  border: solid 1px;\n",
              "  border-radius: 16px;\n",
              "  min-width: 14px;\n",
              "  padding: 5px 16px;\n",
              "  text-align: center;\n",
              "  user-select: none;\n",
              "  margin: 0 8px;\n",
              "  -webkit-tap-highlight-color: transparent;\n",
              "}\n",
              ".carousel {\n",
              "  overflow: auto;\n",
              "  scrollbar-width: none;\n",
              "  white-space: nowrap;\n",
              "  margin-right: -12px;\n",
              "}\n",
              ".headline {\n",
              "  display: flex;\n",
              "  margin-right: 4px;\n",
              "}\n",
              ".gradient-container {\n",
              "  position: relative;\n",
              "}\n",
              ".gradient {\n",
              "  position: absolute;\n",
              "  transform: translate(3px, -9px);\n",
              "  height: 36px;\n",
              "  width: 9px;\n",
              "}\n",
              "@media (prefers-color-scheme: light) {\n",
              "  .container {\n",
              "    background-color: #fafafa;\n",
              "    box-shadow: 0 0 0 1px #0000000f;\n",
              "  }\n",
              "  .headline-label {\n",
              "    color: #1f1f1f;\n",
              "  }\n",
              "  .chip {\n",
              "    background-color: #ffffff;\n",
              "    border-color: #d2d2d2;\n",
              "    color: #5e5e5e;\n",
              "    text-decoration: none;\n",
              "  }\n",
              "  .chip:hover {\n",
              "    background-color: #f2f2f2;\n",
              "  }\n",
              "  .chip:focus {\n",
              "    background-color: #f2f2f2;\n",
              "  }\n",
              "  .chip:active {\n",
              "    background-color: #d8d8d8;\n",
              "    border-color: #b6b6b6;\n",
              "  }\n",
              "  .logo-dark {\n",
              "    display: none;\n",
              "  }\n",
              "  .gradient {\n",
              "    background: linear-gradient(90deg, #fafafa 15%, #fafafa00 100%);\n",
              "  }\n",
              "}\n",
              "@media (prefers-color-scheme: dark) {\n",
              "  .container {\n",
              "    background-color: #1f1f1f;\n",
              "    box-shadow: 0 0 0 1px #ffffff26;\n",
              "  }\n",
              "  .headline-label {\n",
              "    color: #fff;\n",
              "  }\n",
              "  .chip {\n",
              "    background-color: #2c2c2c;\n",
              "    border-color: #3c4043;\n",
              "    color: #fff;\n",
              "    text-decoration: none;\n",
              "  }\n",
              "  .chip:hover {\n",
              "    background-color: #353536;\n",
              "  }\n",
              "  .chip:focus {\n",
              "    background-color: #353536;\n",
              "  }\n",
              "  .chip:active {\n",
              "    background-color: #464849;\n",
              "    border-color: #53575b;\n",
              "  }\n",
              "  .logo-light {\n",
              "    display: none;\n",
              "  }\n",
              "  .gradient {\n",
              "    background: linear-gradient(90deg, #1f1f1f 15%, #1f1f1f00 100%);\n",
              "  }\n",
              "}\n",
              "</style>\n",
              "<div class=\"container\">\n",
              "  <div class=\"headline\">\n",
              "    <svg class=\"logo-light\" width=\"18\" height=\"18\" viewBox=\"9 9 35 35\" fill=\"none\" xmlns=\"http://www.w3.org/2000/svg\">\n",
              "      <path fill-rule=\"evenodd\" clip-rule=\"evenodd\" d=\"M42.8622 27.0064C42.8622 25.7839 42.7525 24.6084 42.5487 23.4799H26.3109V30.1568H35.5897C35.1821 32.3041 33.9596 34.1222 32.1258 35.3448V39.6864H37.7213C40.9814 36.677 42.8622 32.2571 42.8622 27.0064V27.0064Z\" fill=\"#4285F4\"/>\n",
              "      <path fill-rule=\"evenodd\" clip-rule=\"evenodd\" d=\"M26.3109 43.8555C30.9659 43.8555 34.8687 42.3195 37.7213 39.6863L32.1258 35.3447C30.5898 36.3792 28.6306 37.0061 26.3109 37.0061C21.8282 37.0061 18.0195 33.9811 16.6559 29.906H10.9194V34.3573C13.7563 39.9841 19.5712 43.8555 26.3109 43.8555V43.8555Z\" fill=\"#34A853\"/>\n",
              "      <path fill-rule=\"evenodd\" clip-rule=\"evenodd\" d=\"M16.6559 29.8904C16.3111 28.8559 16.1074 27.7588 16.1074 26.6146C16.1074 25.4704 16.3111 24.3733 16.6559 23.3388V18.8875H10.9194C9.74388 21.2072 9.06992 23.8247 9.06992 26.6146C9.06992 29.4045 9.74388 32.022 10.9194 34.3417L15.3864 30.8621L16.6559 29.8904V29.8904Z\" fill=\"#FBBC05\"/>\n",
              "      <path fill-rule=\"evenodd\" clip-rule=\"evenodd\" d=\"M26.3109 16.2386C28.85 16.2386 31.107 17.1164 32.9095 18.8091L37.8466 13.8719C34.853 11.082 30.9659 9.3736 26.3109 9.3736C19.5712 9.3736 13.7563 13.245 10.9194 18.8875L16.6559 23.3388C18.0195 19.2636 21.8282 16.2386 26.3109 16.2386V16.2386Z\" fill=\"#EA4335\"/>\n",
              "    </svg>\n",
              "    <svg class=\"logo-dark\" width=\"18\" height=\"18\" viewBox=\"0 0 48 48\" xmlns=\"http://www.w3.org/2000/svg\">\n",
              "      <circle cx=\"24\" cy=\"23\" fill=\"#FFF\" r=\"22\"/>\n",
              "      <path d=\"M33.76 34.26c2.75-2.56 4.49-6.37 4.49-11.26 0-.89-.08-1.84-.29-3H24.01v5.99h8.03c-.4 2.02-1.5 3.56-3.07 4.56v.75l3.91 2.97h.88z\" fill=\"#4285F4\"/>\n",
              "      <path d=\"M15.58 25.77A8.845 8.845 0 0 0 24 31.86c1.92 0 3.62-.46 4.97-1.31l4.79 3.71C31.14 36.7 27.65 38 24 38c-5.93 0-11.01-3.4-13.45-8.36l.17-1.01 4.06-2.85h.8z\" fill=\"#34A853\"/>\n",
              "      <path d=\"M15.59 20.21a8.864 8.864 0 0 0 0 5.58l-5.03 3.86c-.98-2-1.53-4.25-1.53-6.64 0-2.39.55-4.64 1.53-6.64l1-.22 3.81 2.98.22 1.08z\" fill=\"#FBBC05\"/>\n",
              "      <path d=\"M24 14.14c2.11 0 4.02.75 5.52 1.98l4.36-4.36C31.22 9.43 27.81 8 24 8c-5.93 0-11.01 3.4-13.45 8.36l5.03 3.85A8.86 8.86 0 0 1 24 14.14z\" fill=\"#EA4335\"/>\n",
              "    </svg>\n",
              "    <div class=\"gradient-container\"><div class=\"gradient\"></div></div>\n",
              "  </div>\n",
              "  <div class=\"carousel\">\n",
              "    <a class=\"chip\" href=\"https://vertexaisearch.cloud.google.com/grounding-api-redirect/AbF9wXGgwumQBm4-8gBWrDbjss_S3NLspbMrLRtnfRLcgDjifWL8_7LAXn-QwAXWKr91d_qqMLMN1I_8pcMWFLvv9SDiiiknKX10lBqCZESk38QkaCZpYBPsEUhqUvfVU5Yee-Ao6JSmANI6ThtHOvCYIFRJ6O3d2T12kcdXCk021gPcy6Kf0mSfpeEMkonOtOXw1H6VCKM44M-DKDzu3ckc7m2SrRZ2KU-HvvBzAe-NW4fhnSvw71pI3StzLY3QGk7lfV-cwnpnDd3MMsIHDvFgOKxfn5Tv4Q==\">apartamentos à venda São Paulo até 300 mil 2 quartos vaga garagem</a>\n",
              "    <a class=\"chip\" href=\"https://vertexaisearch.cloud.google.com/grounding-api-redirect/AbF9wXHhTD5EajkhyNZoVupb4bXxfc6KmJDbwCv5U3Eb7isfh69n8NA8NAnvnhOnZJpaOX7WxrqOY0yILRDGnwrDDDTLzRYsEG7WxrKPBNuo1XCqbMBAqJMJOpB-mZzoHYYbzSZerSKWZbAcsPBZZDeOMKtJhPevDchv8XLCcaeN90LHRZjn9ZYLucNJEjnqzvyuHke-U4HHJZGUMOnpjLlYZrikh-vDnQke_S0vUvq6ur-B1Xydh9kgiGtft7zigDd41-fjDTRuvTW68oBH71G3jbE=\">apartamentos baratos à venda em São Paulo com 2 quartos e garagem</a>\n",
              "  </div>\n",
              "</div>\n"
            ]
          },
          "metadata": {}
        },
        {
          "output_type": "stream",
          "name": "stdout",
          "text": [
            "Essas opções iniciais atendem à sua busca? (sim/não) não\n",
            "\n",
            "--- Refinando a Busca ---\n",
            "Por favor, forneça mais detalhes sobre o que você procura para que eu possa refinar a busca: preciso do link para o anúncio\n",
            "Qual o valor máximo atualizado? 300000\n",
            "\n",
            "Resultados da Nova Busca:\n",
            "Olá! Realizei uma nova busca de apartamentos em Itapevi com base em seus critérios atualizados.  Abaixo estão 15 opções que se encaixam no seu perfil, incluindo links simulados para anúncios:\n",
            "\n",
            "\n",
            "1. **Apartamento aconchegante com 2 dormitórios e vaga** -  Apartamento em ótimo estado, com 2 dormitórios, sala, cozinha, banheiro, varanda e 1 vaga de garagem. Próximo a comércios e transporte público.  www.portal.com.br/id_1234\n",
            "2. **Apartamento moderno em condomínio fechado** -  Apartamento novo, 2 dormitórios, suíte, varanda gourmet, 1 vaga de garagem, lazer completo. www.portal.com.br/id_5678\n",
            "3. **Apartamento com varanda ampla e vista livre** -  2 dormitórios, sala ampla, cozinha, banheiro, varanda com linda vista, 1 vaga de garagem.  www.portal.com.br/id_9012\n",
            "4. **Ótimo apartamento próximo ao centro** -  Apartamento bem localizado, 2 dormitórios, sala, cozinha, banheiro, varanda, 1 vaga de garagem.  www.portal.com.br/id_3456\n",
            "5. **Apartamento com vaga coberta** -  2 dormitórios, sala, cozinha, banheiro, varanda, vaga de garagem coberta.  www.portal.com.br/id_7890\n",
            "6. **Apartamento recém reformado em Itapevi** - 2 dormitórios, sala, cozinha, banheiro, varanda, 1 vaga de garagem, reformado recentemente. www.portal.com.br/id_1357\n",
            "7. **Apartamento com armários embutidos** - 2 dormitórios com armários, sala, cozinha, banheiro, varanda, 1 vaga de garagem. www.portal.com.br/id_9876\n",
            "8. **Apartamento em condomínio com piscina** - 2 dormitórios, sala, cozinha, banheiro, varanda, 1 vaga de garagem, condomínio com piscina. www.portal.com.br/id_2468\n",
            "9. **Apartamento claro e arejado** -  2 dormitórios, sala, cozinha, banheiro, varanda, 1 vaga de garagem, apartamento muito iluminado. www.portal.com.br/id_0123\n",
            "10. **Excelente localização, próximo a estação** - 2 dormitórios, sala, cozinha, banheiro, varanda, 1 vaga de garagem, próximo à estação de trem. www.portal.com.br/id_4567\n",
            "11. **Apartamento com espaço para churrasqueira na varanda** - 2 dormitórios, sala, cozinha, banheiro, varanda com espaço para churrasqueira, 1 vaga de garagem. www.portal.com.br/id_8765\n",
            "12. **Apartamento andar alto com vista panorâmica** - 2 dormitórios, sala, cozinha, banheiro, varanda com vista panorâmica, 1 vaga de garagem. www.portal.com.br/id_3210\n",
            "13. **Condomínio com segurança 24 horas** - 2 dormitórios, sala, cozinha, banheiro, varanda, 1 vaga de garagem, condomínio com segurança 24 horas. www.portal.com.br/id_5432\n",
            "14. **Apartamento com depósito privativo** - 2 dormitórios, sala, cozinha, banheiro, varanda, 1 vaga de garagem e depósito privativo. www.portal.com.br/id_6543\n",
            "15. **Apartamento aconchegante em rua tranquila** - 2 dormitórios, sala, cozinha, banheiro, varanda, 1 vaga de garagem, localizado em rua tranquila. www.portal.com.br/id_7654\n",
            "\n",
            "\n",
            "Esta nova busca lhe agradou?\n",
            "\n",
            "Esta nova busca lhe agradou? (sim/não) sim\n",
            "Agente: Ótimo! Deseja o contato de um de nossos corretores para agendar uma visita ou obter mais informações? (sim/não) sim\n",
            "Agente: Por favor, preencha este formulário para solicitar o contato de um corretor: https://docs.google.com/forms/d/e/1FAIpQLSdE0lPpyja0SsRhmgSuNLfBwiCX2w7Rf8ED_q-j1fpceUNJ9g/viewform?usp=header\n",
            "Agente: Agradecemos o seu contato! Se tiver mais alguma dúvida, pode perguntar.\n",
            "\n",
            "Obrigado por utilizar nosso sistema! Tenha um ótimo dia.\n"
          ]
        }
      ]
    }
  ]
}